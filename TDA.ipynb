{
  "nbformat": 4,
  "nbformat_minor": 0,
  "metadata": {
    "colab": {
      "name": "TDA.ipynb",
      "provenance": [],
      "collapsed_sections": [],
      "authorship_tag": "ABX9TyPgHpOEXlAO5YrRpfLuuJbL",
      "include_colab_link": true
    },
    "kernelspec": {
      "name": "python3",
      "display_name": "Python 3"
    }
  },
  "cells": [
    {
      "cell_type": "markdown",
      "metadata": {
        "id": "view-in-github",
        "colab_type": "text"
      },
      "source": [
        "<a href=\"https://colab.research.google.com/github/Barbara2728/IPC2-TDA/blob/main/TDA.ipynb\" target=\"_parent\"><img src=\"https://colab.research.google.com/assets/colab-badge.svg\" alt=\"Open In Colab\"/></a>"
      ]
    },
    {
      "cell_type": "markdown",
      "metadata": {
        "id": "AHiDZClgdM-t"
      },
      "source": [
        "# **Ejercicio de Listas Enlazadas**"
      ]
    },
    {
      "cell_type": "markdown",
      "metadata": {
        "id": "GsLtMefSe0D5"
      },
      "source": [
        "**Definición de clase cliente**"
      ]
    },
    {
      "cell_type": "code",
      "metadata": {
        "id": "7N1DeMzNbTPo"
      },
      "source": [
        "class cliente:\r\n",
        "  def __init__(self, nombre, no_habitacion):\r\n",
        "    self.nombre = nombre\r\n",
        "    self.no_habitacion = no_habitacion\r\n"
      ],
      "execution_count": 18,
      "outputs": []
    },
    {
      "cell_type": "markdown",
      "metadata": {
        "id": "tMZlrFeaPPDA"
      },
      "source": [
        "**Definición de clase nodo**"
      ]
    },
    {
      "cell_type": "code",
      "metadata": {
        "id": "f4DKoa4kWEiD"
      },
      "source": [
        "class node:\r\n",
        "  def __init__(self, cliente=None, next=None):\r\n",
        "    self.cliente=cliente\r\n",
        "    self.next=next"
      ],
      "execution_count": 19,
      "outputs": []
    },
    {
      "cell_type": "markdown",
      "metadata": {
        "id": "ZoeYNtdaPZyj"
      },
      "source": [
        "**Lista enlazada**"
      ]
    },
    {
      "cell_type": "code",
      "metadata": {
        "id": "RzgwmZzIW66g"
      },
      "source": [
        "class linked_list:\r\n",
        "  def __init__(self):\r\n",
        "    self.head = None\r\n",
        "\r\n",
        "  def insertar(self, cliente):\r\n",
        "    if not self.head:  #si no hay cabecera (nodo)\r\n",
        "      self.head = node(cliente = cliente)  #1 nombre del parámetro = valor del parámetro\r\n",
        "      return\r\n",
        "    current = self.head   #si hay cliente (variable que contiene el nodo cabecera)\r\n",
        "    while current.next:\r\n",
        "      current = current.next    #recorre y guarda el último elemento de la lista (current= hay cabecera)\r\n",
        "    current.next = node(cliente = cliente)\r\n",
        "\r\n",
        "  def imprimir(self):\r\n",
        "    node = self.head\r\n",
        "    while node != None:\r\n",
        "      print(node.cliente.nombre, end=\" => \")\r\n",
        "      node = node.next\r\n",
        "\r\n",
        "  def eliminar(self, no_habitacion):\r\n",
        "    current = self.head\r\n",
        "    previous = None\r\n",
        "\r\n",
        "    while current and current.cliente.no_habitacion != no_habitacion:  #si no esta en la cabecera -busca el numero de chabitacion, verifica que el nombre corresponda\r\n",
        "      previous = current          #si 204 es distinta a cabecera, entra a previous que arranca con la variable actual\r\n",
        "      current = current.next       #actual busca en el siguiente y lo guarda\r\n",
        "\r\n",
        "    if previous is None:          #sirve para hacer el resto de valores\r\n",
        "      self.head = current.next\r\n",
        "    elif current:\r\n",
        "      previous.next =current.next     #previous lleva actual y actual lleva la cabecera\r\n",
        "      current.next = None\r\n"
      ],
      "execution_count": null,
      "outputs": []
    },
    {
      "cell_type": "markdown",
      "metadata": {
        "id": "f9PJDc_8OhhJ"
      },
      "source": [
        "**Creación de clientes**"
      ]
    },
    {
      "cell_type": "code",
      "metadata": {
        "id": "SBY4PbXBc2qL"
      },
      "source": [
        "c1 = cliente(\"Estuardo Zapeta\", 101)\r\n",
        "c2 = cliente(\"Marco López\", 103)\r\n",
        "c3 = cliente(\"Josue Armas\", 204)\r\n",
        "c4 = cliente(\"Gladys Olmos\", 302)"
      ],
      "execution_count": null,
      "outputs": []
    },
    {
      "cell_type": "markdown",
      "metadata": {
        "id": "sRqWREa7O5FB"
      },
      "source": [
        "**Insertar clientes creados**"
      ]
    },
    {
      "cell_type": "code",
      "metadata": {
        "id": "EZYFRYPNdWwt"
      },
      "source": [
        "lista = linked_list()\r\n",
        "lista.insertar(c1)\r\n",
        "lista.insertar(c2)\r\n",
        "lista.insertar(c3)\r\n",
        "lista.insertar(c4)\r\n"
      ],
      "execution_count": null,
      "outputs": []
    },
    {
      "cell_type": "markdown",
      "metadata": {
        "id": "rH15Yh_5e9jP"
      },
      "source": [
        "**Impresión**"
      ]
    },
    {
      "cell_type": "code",
      "metadata": {
        "colab": {
          "base_uri": "https://localhost:8080/"
        },
        "id": "Yz533plwevsT",
        "outputId": "d649cda4-c19f-431e-a7a7-feba0c265c9a"
      },
      "source": [
        "lista.imprimir()"
      ],
      "execution_count": null,
      "outputs": [
        {
          "output_type": "stream",
          "text": [
            "Marco López => Gladys Olmos => "
          ],
          "name": "stdout"
        }
      ]
    },
    {
      "cell_type": "code",
      "metadata": {
        "id": "_XI0kit-keYV"
      },
      "source": [
        "lista.eliminar(101)"
      ],
      "execution_count": null,
      "outputs": []
    },
    {
      "cell_type": "markdown",
      "metadata": {
        "id": "AWOqZxNfoQJ_"
      },
      "source": [
        "**Ejercicio de Listas Circulares**"
      ]
    },
    {
      "cell_type": "code",
      "metadata": {
        "id": "gJB5pc1ooW2_"
      },
      "source": [
        "class linked_list_circular:\r\n",
        "  def __init__(self,head= None):\r\n",
        "    self.head = head\r\n",
        "    self.size = 0\r\n",
        "\r\n",
        "  def insertar(self, cliente):\r\n",
        "    if self.size ==0: #validar que sea el primero de los registros\r\n",
        "      self.head = node(cliente = cliente)\r\n",
        "      self. head.next = self.head\r\n",
        "    \r\n",
        "    else: \r\n",
        "      # si hay mas de 1 nodo, aumenta el size,construyendo un nuevo nodo\r\n",
        "      new_node = node(cliente=cliente, next = self.head.next) #recibe 2 parametros (1. dato cliente2. donde apunta)\r\n",
        "      self.head.next = new_node\r\n",
        "    self.size += 1\r\n",
        "    \r\n",
        "\r\n",
        "    #funcion para recorrer lista\r\n",
        "  def imprimir(self):\r\n",
        "    if self.head is None:\r\n",
        "      return\r\n",
        "    node = self.head\r\n",
        "    print(node.cliente.nombre, end = \" => \")\r\n",
        "    while node.next != self.head:\r\n",
        "      node = node.next\r\n",
        "      print(node.cliente.nombre, end = \" => \")\r\n",
        "\r\n",
        "  def eliminar(self, no_habitacion):\r\n",
        "    node =self.head\r\n",
        "    previous = None\r\n",
        "\r\n",
        "    while True:\r\n",
        "      if node. cliente.no_habitacion == no_habitacion:\r\n",
        "        if previous is not None:\r\n",
        "          previous.next = node.next\r\n",
        "        else:\r\n",
        "          while node.next != self.head:\r\n",
        "            node = node.next\r\n",
        "          node.next = self.head.next\r\n",
        "          self.head = self.head.next\r\n",
        "        self.size -= 1\r\n",
        "        return True\r\n",
        "      elif node.next == self.head:  #si el sig del nodo actual es igual al de cabecera no se elimina\r\n",
        "        return False\r\n",
        "\r\n",
        "      previous = node\r\n",
        "      node = node.next"
      ],
      "execution_count": null,
      "outputs": []
    },
    {
      "cell_type": "code",
      "metadata": {
        "id": "nSm3fC9PRlkJ"
      },
      "source": [
        "c1 = cliente(\"Estuardo Zapeta\", 101)\r\n",
        "c2 = cliente(\"Marco López\", 103)\r\n",
        "c3 = cliente(\"Josue Armas\", 204)\r\n",
        "c4 = cliente(\"Gladys Olmos\", 302)"
      ],
      "execution_count": null,
      "outputs": []
    },
    {
      "cell_type": "code",
      "metadata": {
        "id": "-WkhQ7-aRT2e"
      },
      "source": [
        "lista_c = linked_list_circular()\r\n",
        "lista_c.insertar(c1)\r\n",
        "lista_c.insertar(c2)\r\n",
        "lista_c.insertar(c3)\r\n",
        "lista_c.insertar(c4)"
      ],
      "execution_count": null,
      "outputs": []
    },
    {
      "cell_type": "code",
      "metadata": {
        "colab": {
          "base_uri": "https://localhost:8080/"
        },
        "id": "ohxhbtEOUl3P",
        "outputId": "2af16396-1c17-4c9b-d8e9-750d4cc87e81"
      },
      "source": [
        "lista_c.imprimir()"
      ],
      "execution_count": null,
      "outputs": [
        {
          "output_type": "stream",
          "text": [
            "Gladys Olmos => Josue Armas => "
          ],
          "name": "stdout"
        }
      ]
    },
    {
      "cell_type": "code",
      "metadata": {
        "colab": {
          "base_uri": "https://localhost:8080/"
        },
        "id": "2uSd2CvCeiP8",
        "outputId": "ecd969f3-26fc-4651-df4c-004bb31c0890"
      },
      "source": [
        "lista_c.eliminar(103)"
      ],
      "execution_count": null,
      "outputs": [
        {
          "output_type": "execute_result",
          "data": {
            "text/plain": [
              "True"
            ]
          },
          "metadata": {
            "tags": []
          },
          "execution_count": 40
        }
      ]
    },
    {
      "cell_type": "markdown",
      "metadata": {
        "id": "8yx-6tp7jUtf"
      },
      "source": [
        "# **Listas Doblemente enlazadas**"
      ]
    },
    {
      "cell_type": "markdown",
      "metadata": {
        "id": "ZAEX3trndh9y"
      },
      "source": [
        "**Definición de clase nodo doblemente enlazado**"
      ]
    },
    {
      "cell_type": "code",
      "metadata": {
        "id": "N76NrlmAjceX"
      },
      "source": [
        "class node_de:\r\n",
        "  def __init__(self, cliente =None, next = None, previous = None):\r\n",
        "    self.cliente = cliente\r\n",
        "    self.previous = previous\r\n",
        "    self.next = next"
      ],
      "execution_count": null,
      "outputs": []
    },
    {
      "cell_type": "markdown",
      "metadata": {
        "id": "09irm2d9d7VQ"
      },
      "source": [
        "**Lista doblemente enlazada**"
      ]
    },
    {
      "cell_type": "code",
      "metadata": {
        "id": "nrm255QVZOY9"
      },
      "source": [
        "class linked_list_de:\r\n",
        "  def __init__(self, head = None):\r\n",
        "    self.head = head\r\n",
        "    self.last = head\r\n",
        "    self.size = 0\r\n",
        "\r\n",
        "  def insertar(self, cliente):\r\n",
        "    if self.size == 0:\r\n",
        "      self.head =node_de(cliente = cliente)\r\n",
        "      self.last = self.head\r\n",
        "    else: \r\n",
        "      new_node = node_de(cliente = cliente, next = self.head)\r\n",
        "      self.head.previous = new_node\r\n",
        "      self.head = new_node\r\n",
        "    self.size += 1\r\n",
        "\r\n",
        "  def imprimir(self):\r\n",
        "    if self.head is None:\r\n",
        "      return\r\n",
        "    node = self.head\r\n",
        "    print(node.cliente.nombre, end = \" => \" )\r\n",
        "    while node.next:\r\n",
        "      node = node.next\r\n",
        "      print(node.cliente.nombre, end = \" => \")\r\n",
        "\r\n",
        "  def eliminar(self, no_habitacion):\r\n",
        "    node = self.head\r\n",
        "    while node is not None:\r\n",
        "      if node.cliente.no_habitacion == no_habitacion:\r\n",
        "        if node.previous is not None:\r\n",
        "          if node.next:\r\n",
        "            node.previous.next = node.next\r\n",
        "            node.next.previous = node.previous\r\n",
        "          else:\r\n",
        "            node.previous.next = None\r\n",
        "            self.last = node.previous\r\n",
        "        else: \r\n",
        "          self.head = node.next\r\n",
        "          node.next.previous = self.head\r\n",
        "        self.size -=1\r\n",
        "        return True\r\n",
        "      else :\r\n",
        "        node = node.next\r\n",
        "    return False\r\n"
      ],
      "execution_count": null,
      "outputs": []
    },
    {
      "cell_type": "code",
      "metadata": {
        "id": "axlwtVbubfMQ"
      },
      "source": [
        "c1 = cliente(\"Estuardo Zapeta\", 101)\r\n",
        "c2 = cliente(\"Marco López\", 103)\r\n",
        "c3 = cliente(\"Josue Armas\", 204)\r\n",
        "c4 = cliente(\"Gladys Olmos\", 302)"
      ],
      "execution_count": null,
      "outputs": []
    },
    {
      "cell_type": "code",
      "metadata": {
        "id": "ulL48wVtcrev"
      },
      "source": [
        "lista_de = linked_list_de()\r\n",
        "lista_de.insertar(c1)\r\n",
        "lista_de.insertar(c2)\r\n",
        "lista_de.insertar(c3)\r\n",
        "lista_de.insertar(c4)"
      ],
      "execution_count": null,
      "outputs": []
    },
    {
      "cell_type": "code",
      "metadata": {
        "colab": {
          "base_uri": "https://localhost:8080/"
        },
        "id": "kGUsOZwReL_s",
        "outputId": "4a3411a8-7c8c-49d9-ce3e-4d344f00aac1"
      },
      "source": [
        "lista_de.imprimir()"
      ],
      "execution_count": null,
      "outputs": [
        {
          "output_type": "stream",
          "text": [
            "Gladys Olmos => Marco López => "
          ],
          "name": "stdout"
        }
      ]
    },
    {
      "cell_type": "code",
      "metadata": {
        "colab": {
          "base_uri": "https://localhost:8080/"
        },
        "id": "_JpTGXnpmu86",
        "outputId": "6ef8f953-0b7b-43f8-cc29-6c9214abbd7a"
      },
      "source": [
        "lista_de.eliminar(101)"
      ],
      "execution_count": null,
      "outputs": [
        {
          "output_type": "execute_result",
          "data": {
            "text/plain": [
              "True"
            ]
          },
          "metadata": {
            "tags": []
          },
          "execution_count": 61
        }
      ]
    },
    {
      "cell_type": "code",
      "metadata": {
        "colab": {
          "base_uri": "https://localhost:8080/"
        },
        "id": "5hPEnZNDnOGS",
        "outputId": "44ee305f-7609-4740-aafa-6d788cf9920b"
      },
      "source": [
        "lista_de.imprimir()"
      ],
      "execution_count": null,
      "outputs": [
        {
          "output_type": "stream",
          "text": [
            "Gladys Olmos => Marco López => Estuardo Zapeta => "
          ],
          "name": "stdout"
        }
      ]
    },
    {
      "cell_type": "markdown",
      "metadata": {
        "id": "dImbuvSWcZ-h"
      },
      "source": [
        "## **PILAS**"
      ]
    },
    {
      "cell_type": "code",
      "metadata": {
        "id": "bwmWg8WPcf9m"
      },
      "source": [
        "class Pila:\r\n",
        "  def __init__(self):\r\n",
        "    self.pila = []\r\n",
        "  \r\n",
        "  def apilar(self,cliente):\r\n",
        "    self.pila.append(cliente)   #append funcion definida, permite obtener un dato de esta.\r\n",
        "\r\n",
        "  def devolver_tamanio(self):\r\n",
        "    return len(self.pila)\r\n",
        "\r\n",
        "  def imprimir(self):\r\n",
        "    for elemento in self.pila:\r\n",
        "      print(elemento.nombre, end = \" => \")\r\n",
        "  \r\n",
        "  def desapilar(self):\r\n",
        "    if self.pila:\r\n",
        "      self.pila.pop()"
      ],
      "execution_count": 20,
      "outputs": []
    },
    {
      "cell_type": "code",
      "metadata": {
        "id": "KydVsKkxeDL4"
      },
      "source": [
        "c1 = cliente(\"Estuardo Zapeta\", 101)\r\n",
        "c2 = cliente(\"Marco López\", 103)\r\n",
        "c3 = cliente(\"Josue Armas\", 204)\r\n",
        "c4 = cliente(\"Gladys Olmos\", 302)"
      ],
      "execution_count": 23,
      "outputs": []
    },
    {
      "cell_type": "code",
      "metadata": {
        "id": "5ZjBjGf1ed7D"
      },
      "source": [
        "p = Pila()\r\n",
        "p.apilar(c1)\r\n",
        "p.apilar(c2)\r\n",
        "p.apilar(c3)\r\n",
        "p.apilar(c4)"
      ],
      "execution_count": 24,
      "outputs": []
    },
    {
      "cell_type": "code",
      "metadata": {
        "colab": {
          "base_uri": "https://localhost:8080/"
        },
        "id": "SqXIDYaPfhzl",
        "outputId": "aa517d47-6ec0-4ba1-b52b-3071e9605a8e"
      },
      "source": [
        "p.devolver_tamanio()"
      ],
      "execution_count": 25,
      "outputs": [
        {
          "output_type": "execute_result",
          "data": {
            "text/plain": [
              "4"
            ]
          },
          "metadata": {
            "tags": []
          },
          "execution_count": 25
        }
      ]
    },
    {
      "cell_type": "code",
      "metadata": {
        "colab": {
          "base_uri": "https://localhost:8080/"
        },
        "id": "OilAiYFnfqX_",
        "outputId": "86276e4c-9ae5-47d3-b307-79508e0da6ab"
      },
      "source": [
        "p.imprimir()"
      ],
      "execution_count": 26,
      "outputs": [
        {
          "output_type": "stream",
          "text": [
            "Estuardo Zapeta => Marco López => Josue Armas => Gladys Olmos => "
          ],
          "name": "stdout"
        }
      ]
    },
    {
      "cell_type": "code",
      "metadata": {
        "id": "B7hMmsYPgsHQ"
      },
      "source": [
        "p.desapilar()"
      ],
      "execution_count": 27,
      "outputs": []
    },
    {
      "cell_type": "code",
      "metadata": {
        "colab": {
          "base_uri": "https://localhost:8080/"
        },
        "id": "WDkgW7qwgvJ6",
        "outputId": "6959040b-99f2-4a1c-b027-d79e0ee2fdd1"
      },
      "source": [
        "p.imprimir()"
      ],
      "execution_count": 28,
      "outputs": [
        {
          "output_type": "stream",
          "text": [
            "Estuardo Zapeta => Marco López => Josue Armas => "
          ],
          "name": "stdout"
        }
      ]
    },
    {
      "cell_type": "markdown",
      "metadata": {
        "id": "fqeq7DtPh9UU"
      },
      "source": [
        "# **COLAS**"
      ]
    },
    {
      "cell_type": "code",
      "metadata": {
        "id": "TUCLv2PTiCkV"
      },
      "source": [
        "class Cola:\r\n",
        "  def __init__(self):\r\n",
        "    self.cola = []\r\n",
        "\r\n",
        "  def encolar(self, cliente):\r\n",
        "    self.cola.append(cliente)\r\n",
        "\r\n",
        "  def devolver_tamanio(self):\r\n",
        "    return len(self.cola)\r\n",
        "\r\n",
        "  def imprimir(self):\r\n",
        "    for elemento in self.cola:\r\n",
        "      print(elemento.nombre, end = \" <= \")\r\n",
        "\r\n",
        "  def desencolar(self):\r\n",
        "    if self.cola:\r\n",
        "      self.cola.pop(0)\r\n"
      ],
      "execution_count": 51,
      "outputs": []
    },
    {
      "cell_type": "code",
      "metadata": {
        "id": "W3nVIsGAi0jY"
      },
      "source": [
        "c1 = cliente(\"Estuardo Zapeta\", 101)\r\n",
        "c2 = cliente(\"Marco López\", 103)\r\n",
        "c3 = cliente(\"Josue Armas\", 204)\r\n",
        "c4 = cliente(\"Gladys Olmos\", 302)"
      ],
      "execution_count": 63,
      "outputs": []
    },
    {
      "cell_type": "code",
      "metadata": {
        "id": "rg6MD0Woi1fb"
      },
      "source": [
        "c = Cola()\r\n",
        "c.encolar(c1)\r\n",
        "c.encolar(c2)\r\n",
        "c.encolar(c3)\r\n",
        "c.encolar(c4)"
      ],
      "execution_count": 64,
      "outputs": []
    },
    {
      "cell_type": "code",
      "metadata": {
        "colab": {
          "base_uri": "https://localhost:8080/"
        },
        "id": "-zZ0DOojjJK3",
        "outputId": "1e4d9e9c-c02b-4013-a51f-5b81a643ac5e"
      },
      "source": [
        "c.devolver_tamanio()"
      ],
      "execution_count": 46,
      "outputs": [
        {
          "output_type": "execute_result",
          "data": {
            "text/plain": [
              "4"
            ]
          },
          "metadata": {
            "tags": []
          },
          "execution_count": 46
        }
      ]
    },
    {
      "cell_type": "code",
      "metadata": {
        "colab": {
          "base_uri": "https://localhost:8080/"
        },
        "id": "Lwycyv8ekCdl",
        "outputId": "ee48f0b0-2375-428e-b6de-524c0541aa30"
      },
      "source": [
        "c.imprimir()"
      ],
      "execution_count": 65,
      "outputs": [
        {
          "output_type": "stream",
          "text": [
            "Estuardo Zapeta <= Marco López <= Josue Armas <= Gladys Olmos <= "
          ],
          "name": "stdout"
        }
      ]
    },
    {
      "cell_type": "code",
      "metadata": {
        "id": "UB4K36KgkFW_"
      },
      "source": [
        "c.desencolar()"
      ],
      "execution_count": 61,
      "outputs": []
    },
    {
      "cell_type": "code",
      "metadata": {
        "id": "JL3RElD2kHLo"
      },
      "source": [
        "c.imprimir()"
      ],
      "execution_count": 62,
      "outputs": []
    }
  ]
}